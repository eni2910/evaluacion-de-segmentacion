{
 "cells": [
  {
   "cell_type": "markdown",
   "metadata": {},
   "source": [
    "# Tarea 3: Evaluación de Segmentación\n"
   ]
  },
  {
   "cell_type": "markdown",
   "metadata": {},
   "source": [
    "## 1. Importaciones y Configuración"
   ]
  },
  {
   "cell_type": "code",
   "execution_count": null,
   "metadata": {},
   "outputs": [],
   "source": [
    "# 1. Importaciones y Configuración\n",
    "import numpy as np\n",
    "import cv2\n",
    "import matplotlib.pyplot as plt\n",
    "from skimage import segmentation\n",
    "print(\"Todas las dependencias están correctamente instaladas\")"
   ]
  },
  {
   "cell_type": "markdown",
   "metadata": {},
   "source": [
    "## 2. Funciones de Carga y Visualización"
   ]
  },
  {
   "cell_type": "code",
   "execution_count": null,
   "metadata": {},
   "outputs": [],
   "source": [
    "import cv2\n",
    "import numpy as np\n",
    "import matplotlib.pyplot as plt\n",
    "from skimage import graph, segmentation\n",
    "\n",
    "# Load the ground truth image\n",
    "image = cv2.imread(\"../dataset/malignant/malignant (2).png\", cv2.IMREAD_GRAYSCALE)\n",
    "\n",
    "# Normalize the image (enhances contrast for better segmentation)\n",
    "image = cv2.equalizeHist(image)\n",
    "\n",
    "# Display the image\n",
    "plt.imshow(image, cmap='gray')\n",
    "plt.title(\"Ground Truth Image\")\n",
    "plt.show()\n",
    "\n",
    "\n"
   ]
  },
  {
   "cell_type": "markdown",
   "metadata": {},
   "source": [
    "Define the Split and Merge Algorithm"
   ]
  },
  {
   "cell_type": "code",
   "execution_count": 3,
   "metadata": {},
   "outputs": [],
   "source": [
    "def split(image, x, y, width, height, threshold):\n",
    "    \"\"\" Recursively split the image into quadrants \"\"\"\n",
    "    if width < 2 or height < 2:  \n",
    "        return [(x, y, width, height)]\n",
    "    \n",
    "    # Extract region\n",
    "    region = image[y:y+height, x:x+width]\n",
    "    \n",
    "    # Compute homogeneity criterion (variance)\n",
    "    mean = np.mean(region)\n",
    "    std = np.std(region)\n",
    "    \n",
    "    if std < threshold:  \n",
    "        return [(x, y, width, height)]\n",
    "    \n",
    "    # Split into four quadrants\n",
    "    half_w, half_h = width // 2, height // 2\n",
    "    regions = []\n",
    "    regions += split(image, x, y, half_w, half_h, threshold)\n",
    "    regions += split(image, x + half_w, y, half_w, half_h, threshold)\n",
    "    regions += split(image, x, y + half_h, half_w, half_h, threshold)\n",
    "    regions += split(image, x + half_w, y + half_h, half_w, half_h, threshold)\n",
    "\n",
    "    return regions\n"
   ]
  },
  {
   "cell_type": "markdown",
   "metadata": {},
   "source": [
    "Merge Similar Regions"
   ]
  },
  {
   "cell_type": "code",
   "execution_count": 4,
   "metadata": {},
   "outputs": [],
   "source": [
    "def merge(image, regions, threshold):\n",
    "    \"\"\" Merge similar regions based on mean intensity \"\"\"\n",
    "    merged_regions = []\n",
    "    visited = set()\n",
    "\n",
    "    for i, (x1, y1, w1, h1) in enumerate(regions):\n",
    "        if i in visited:\n",
    "            continue\n",
    "\n",
    "        mean1 = np.mean(image[y1:y1+h1, x1:x1+w1])\n",
    "        merged = False\n",
    "\n",
    "        for j, (x2, y2, w2, h2) in enumerate(regions):\n",
    "            if i != j and j not in visited:\n",
    "                mean2 = np.mean(image[y2:y2+h2, x2:x2+w2])\n",
    "                \n",
    "                if abs(mean1 - mean2) < threshold:\n",
    "                    # Merge regions\n",
    "                    min_x, min_y = min(x1, x2), min(y1, y2)\n",
    "                    max_x, max_y = max(x1+w1, x2+w2), max(y1+h1, y2+h2)\n",
    "                    merged_regions.append((min_x, min_y, max_x-min_x, max_y-min_y))\n",
    "                    visited.add(i)\n",
    "                    visited.add(j)\n",
    "                    merged = True\n",
    "                    break\n",
    "\n",
    "        if not merged:\n",
    "            merged_regions.append((x1, y1, w1, h1))\n",
    "\n",
    "    return merged_regions\n"
   ]
  },
  {
   "cell_type": "markdown",
   "metadata": {},
   "source": [
    "Apply Split and Merge on the Image"
   ]
  },
  {
   "cell_type": "code",
   "execution_count": null,
   "metadata": {},
   "outputs": [],
   "source": [
    "# Set homogeneity threshold\n",
    "threshold_split = 15\n",
    "threshold_merge = 10\n",
    "\n",
    "# Perform splitting\n",
    "regions = split(image, 0, 0, image.shape[1], image.shape[0], threshold_split)\n",
    "\n",
    "# Perform merging\n",
    "merged_regions = merge(image, regions, threshold_merge)\n",
    "\n",
    "# Visualizing result\n",
    "output = np.zeros_like(image)\n",
    "for x, y, w, h in merged_regions:\n",
    "    output[y:y+h, x:x+w] = np.mean(image[y:y+h, x:x+w])  # Assign mean intensity\n",
    "\n",
    "plt.imshow(output, cmap='gray')\n",
    "plt.title(\"Segmented Image after Split and Merge\")\n",
    "plt.show()\n"
   ]
  }
 ],
 "metadata": {
  "kernelspec": {
   "display_name": ".venv",
   "language": "python",
   "name": "python3"
  },
  "language_info": {
   "codemirror_mode": {
    "name": "ipython",
    "version": 3
   },
   "file_extension": ".py",
   "mimetype": "text/x-python",
   "name": "python",
   "nbconvert_exporter": "python",
   "pygments_lexer": "ipython3",
   "version": "3.10.11"
  }
 },
 "nbformat": 4,
 "nbformat_minor": 2
}
